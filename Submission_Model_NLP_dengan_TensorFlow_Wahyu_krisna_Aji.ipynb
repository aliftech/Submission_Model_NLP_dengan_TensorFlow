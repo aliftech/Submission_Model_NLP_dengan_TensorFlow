{
  "nbformat": 4,
  "nbformat_minor": 0,
  "metadata": {
    "colab": {
      "provenance": []
    },
    "kernelspec": {
      "name": "python3",
      "display_name": "Python 3"
    },
    "language_info": {
      "name": "python"
    }
  },
  "cells": [
    {
      "cell_type": "markdown",
      "source": [
        "*   Nama : Wahyu Krisna Aji\n",
        "*   Dataset : kaggle_movie_train.csv\n",
        "*   Sumber : Kaggle\n",
        "*   Link Dataset : https://www.kaggle.com/lokkagle/movie-genre-datamovie-genre-data"
      ],
      "metadata": {
        "id": "CwsbAQ49IsUu"
      }
    },
    {
      "cell_type": "code",
      "execution_count": 2,
      "metadata": {
        "id": "AMoA4zIts4EF"
      },
      "outputs": [],
      "source": [
        "import pandas as pd\n",
        "import numpy as np\n",
        "import tensorflow as tf\n",
        "from sklearn.model_selection import train_test_split\n",
        "from tensorflow.keras.preprocessing.text import Tokenizer\n",
        "from tensorflow.keras.preprocessing.sequence import pad_sequences\n",
        "import matplotlib.pyplot as plt\n",
        "from tensorflow.keras.optimizers import Adam\n",
        "from tensorflow.keras.layers import LSTM,Dense,Embedding,Dropout\n",
        "from tensorflow.keras.models import Sequential"
      ]
    },
    {
      "cell_type": "code",
      "source": [
        "class modelCallbacks(tf.keras.callbacks.Callback):\n",
        "  def on_epoch_end(self, epoch, logs={}):\n",
        "    if(logs.get('val_accuracy') > 0.9):\n",
        "      print(\"Expected accuracy have been achieved\")\n",
        "      self.model.stop_training = True\n",
        "cb = modelCallbacks()"
      ],
      "metadata": {
        "id": "lYLGEOyEMkti"
      },
      "execution_count": 3,
      "outputs": []
    },
    {
      "cell_type": "code",
      "source": [
        "data = pd.read_csv('kaggle_movie_train.csv', sep = ',')\n",
        "data.tail()"
      ],
      "metadata": {
        "colab": {
          "base_uri": "https://localhost:8080/",
          "height": 206
        },
        "id": "QPSw6bL6tH1H",
        "outputId": "484f8ff8-5af5-4201-86f1-1754e3728200"
      },
      "execution_count": 4,
      "outputs": [
        {
          "output_type": "execute_result",
          "data": {
            "text/plain": [
              "          id                                               text     genre\n",
              "22574  28161  n in the world to decide what I'm going to do ...     drama\n",
              "22575  28162  shards. BOJO LAZ! Laz pushes Deke back through...     drama\n",
              "22576  28163  OTTIE You've got a thing about Ernie's, haven'...  thriller\n",
              "22577  28165  ....with marked skill and dexterity . LANA wry...    action\n",
              "22578  28166  rd walks off down the hallway, leaving his pos...    comedy"
            ],
            "text/html": [
              "\n",
              "  <div id=\"df-d98d6466-4036-4f1a-81bf-a288efc61db7\">\n",
              "    <div class=\"colab-df-container\">\n",
              "      <div>\n",
              "<style scoped>\n",
              "    .dataframe tbody tr th:only-of-type {\n",
              "        vertical-align: middle;\n",
              "    }\n",
              "\n",
              "    .dataframe tbody tr th {\n",
              "        vertical-align: top;\n",
              "    }\n",
              "\n",
              "    .dataframe thead th {\n",
              "        text-align: right;\n",
              "    }\n",
              "</style>\n",
              "<table border=\"1\" class=\"dataframe\">\n",
              "  <thead>\n",
              "    <tr style=\"text-align: right;\">\n",
              "      <th></th>\n",
              "      <th>id</th>\n",
              "      <th>text</th>\n",
              "      <th>genre</th>\n",
              "    </tr>\n",
              "  </thead>\n",
              "  <tbody>\n",
              "    <tr>\n",
              "      <th>22574</th>\n",
              "      <td>28161</td>\n",
              "      <td>n in the world to decide what I'm going to do ...</td>\n",
              "      <td>drama</td>\n",
              "    </tr>\n",
              "    <tr>\n",
              "      <th>22575</th>\n",
              "      <td>28162</td>\n",
              "      <td>shards. BOJO LAZ! Laz pushes Deke back through...</td>\n",
              "      <td>drama</td>\n",
              "    </tr>\n",
              "    <tr>\n",
              "      <th>22576</th>\n",
              "      <td>28163</td>\n",
              "      <td>OTTIE You've got a thing about Ernie's, haven'...</td>\n",
              "      <td>thriller</td>\n",
              "    </tr>\n",
              "    <tr>\n",
              "      <th>22577</th>\n",
              "      <td>28165</td>\n",
              "      <td>....with marked skill and dexterity . LANA wry...</td>\n",
              "      <td>action</td>\n",
              "    </tr>\n",
              "    <tr>\n",
              "      <th>22578</th>\n",
              "      <td>28166</td>\n",
              "      <td>rd walks off down the hallway, leaving his pos...</td>\n",
              "      <td>comedy</td>\n",
              "    </tr>\n",
              "  </tbody>\n",
              "</table>\n",
              "</div>\n",
              "      <button class=\"colab-df-convert\" onclick=\"convertToInteractive('df-d98d6466-4036-4f1a-81bf-a288efc61db7')\"\n",
              "              title=\"Convert this dataframe to an interactive table.\"\n",
              "              style=\"display:none;\">\n",
              "        \n",
              "  <svg xmlns=\"http://www.w3.org/2000/svg\" height=\"24px\"viewBox=\"0 0 24 24\"\n",
              "       width=\"24px\">\n",
              "    <path d=\"M0 0h24v24H0V0z\" fill=\"none\"/>\n",
              "    <path d=\"M18.56 5.44l.94 2.06.94-2.06 2.06-.94-2.06-.94-.94-2.06-.94 2.06-2.06.94zm-11 1L8.5 8.5l.94-2.06 2.06-.94-2.06-.94L8.5 2.5l-.94 2.06-2.06.94zm10 10l.94 2.06.94-2.06 2.06-.94-2.06-.94-.94-2.06-.94 2.06-2.06.94z\"/><path d=\"M17.41 7.96l-1.37-1.37c-.4-.4-.92-.59-1.43-.59-.52 0-1.04.2-1.43.59L10.3 9.45l-7.72 7.72c-.78.78-.78 2.05 0 2.83L4 21.41c.39.39.9.59 1.41.59.51 0 1.02-.2 1.41-.59l7.78-7.78 2.81-2.81c.8-.78.8-2.07 0-2.86zM5.41 20L4 18.59l7.72-7.72 1.47 1.35L5.41 20z\"/>\n",
              "  </svg>\n",
              "      </button>\n",
              "      \n",
              "  <style>\n",
              "    .colab-df-container {\n",
              "      display:flex;\n",
              "      flex-wrap:wrap;\n",
              "      gap: 12px;\n",
              "    }\n",
              "\n",
              "    .colab-df-convert {\n",
              "      background-color: #E8F0FE;\n",
              "      border: none;\n",
              "      border-radius: 50%;\n",
              "      cursor: pointer;\n",
              "      display: none;\n",
              "      fill: #1967D2;\n",
              "      height: 32px;\n",
              "      padding: 0 0 0 0;\n",
              "      width: 32px;\n",
              "    }\n",
              "\n",
              "    .colab-df-convert:hover {\n",
              "      background-color: #E2EBFA;\n",
              "      box-shadow: 0px 1px 2px rgba(60, 64, 67, 0.3), 0px 1px 3px 1px rgba(60, 64, 67, 0.15);\n",
              "      fill: #174EA6;\n",
              "    }\n",
              "\n",
              "    [theme=dark] .colab-df-convert {\n",
              "      background-color: #3B4455;\n",
              "      fill: #D2E3FC;\n",
              "    }\n",
              "\n",
              "    [theme=dark] .colab-df-convert:hover {\n",
              "      background-color: #434B5C;\n",
              "      box-shadow: 0px 1px 3px 1px rgba(0, 0, 0, 0.15);\n",
              "      filter: drop-shadow(0px 1px 2px rgba(0, 0, 0, 0.3));\n",
              "      fill: #FFFFFF;\n",
              "    }\n",
              "  </style>\n",
              "\n",
              "      <script>\n",
              "        const buttonEl =\n",
              "          document.querySelector('#df-d98d6466-4036-4f1a-81bf-a288efc61db7 button.colab-df-convert');\n",
              "        buttonEl.style.display =\n",
              "          google.colab.kernel.accessAllowed ? 'block' : 'none';\n",
              "\n",
              "        async function convertToInteractive(key) {\n",
              "          const element = document.querySelector('#df-d98d6466-4036-4f1a-81bf-a288efc61db7');\n",
              "          const dataTable =\n",
              "            await google.colab.kernel.invokeFunction('convertToInteractive',\n",
              "                                                     [key], {});\n",
              "          if (!dataTable) return;\n",
              "\n",
              "          const docLinkHtml = 'Like what you see? Visit the ' +\n",
              "            '<a target=\"_blank\" href=https://colab.research.google.com/notebooks/data_table.ipynb>data table notebook</a>'\n",
              "            + ' to learn more about interactive tables.';\n",
              "          element.innerHTML = '';\n",
              "          dataTable['output_type'] = 'display_data';\n",
              "          await google.colab.output.renderOutput(dataTable, element);\n",
              "          const docLink = document.createElement('div');\n",
              "          docLink.innerHTML = docLinkHtml;\n",
              "          element.appendChild(docLink);\n",
              "        }\n",
              "      </script>\n",
              "    </div>\n",
              "  </div>\n",
              "  "
            ]
          },
          "metadata": {},
          "execution_count": 4
        }
      ]
    },
    {
      "cell_type": "code",
      "source": [
        "data['genre'].value_counts()"
      ],
      "metadata": {
        "colab": {
          "base_uri": "https://localhost:8080/"
        },
        "id": "KojcSD4lduX-",
        "outputId": "ea2c566c-fec1-4953-b707-3ec77a604a54"
      },
      "execution_count": 5,
      "outputs": [
        {
          "output_type": "execute_result",
          "data": {
            "text/plain": [
              "drama        8873\n",
              "thriller     6824\n",
              "comedy       2941\n",
              "action       2392\n",
              "sci-fi        613\n",
              "horror        456\n",
              "other         270\n",
              "adventure     147\n",
              "romance        63\n",
              "Name: genre, dtype: int64"
            ]
          },
          "metadata": {},
          "execution_count": 5
        }
      ]
    },
    {
      "cell_type": "code",
      "source": [
        "data = data.drop(columns=[\n",
        "    'id'])"
      ],
      "metadata": {
        "id": "lCjrif-4xKS-"
      },
      "execution_count": 6,
      "outputs": []
    },
    {
      "cell_type": "code",
      "source": [
        "data.head()"
      ],
      "metadata": {
        "id": "h2GUxXDKxw3M",
        "colab": {
          "base_uri": "https://localhost:8080/",
          "height": 206
        },
        "outputId": "3caff653-8388-411f-b014-50539968ba0d"
      },
      "execution_count": 7,
      "outputs": [
        {
          "output_type": "execute_result",
          "data": {
            "text/plain": [
              "                                                text     genre\n",
              "0  eady dead, maybe even wishing he was. INT. 2ND...  thriller\n",
              "1  t, summa cum laude and all. And I'm about to l...    comedy\n",
              "2   up Come, I have a surprise.... She takes him ...     drama\n",
              "3  ded by the two detectives. INT. JEFF'S APARTME...  thriller\n",
              "4  nd dismounts, just as the other children reach...     drama"
            ],
            "text/html": [
              "\n",
              "  <div id=\"df-bd9b0671-319e-4782-bed4-557e0f6c309b\">\n",
              "    <div class=\"colab-df-container\">\n",
              "      <div>\n",
              "<style scoped>\n",
              "    .dataframe tbody tr th:only-of-type {\n",
              "        vertical-align: middle;\n",
              "    }\n",
              "\n",
              "    .dataframe tbody tr th {\n",
              "        vertical-align: top;\n",
              "    }\n",
              "\n",
              "    .dataframe thead th {\n",
              "        text-align: right;\n",
              "    }\n",
              "</style>\n",
              "<table border=\"1\" class=\"dataframe\">\n",
              "  <thead>\n",
              "    <tr style=\"text-align: right;\">\n",
              "      <th></th>\n",
              "      <th>text</th>\n",
              "      <th>genre</th>\n",
              "    </tr>\n",
              "  </thead>\n",
              "  <tbody>\n",
              "    <tr>\n",
              "      <th>0</th>\n",
              "      <td>eady dead, maybe even wishing he was. INT. 2ND...</td>\n",
              "      <td>thriller</td>\n",
              "    </tr>\n",
              "    <tr>\n",
              "      <th>1</th>\n",
              "      <td>t, summa cum laude and all. And I'm about to l...</td>\n",
              "      <td>comedy</td>\n",
              "    </tr>\n",
              "    <tr>\n",
              "      <th>2</th>\n",
              "      <td>up Come, I have a surprise.... She takes him ...</td>\n",
              "      <td>drama</td>\n",
              "    </tr>\n",
              "    <tr>\n",
              "      <th>3</th>\n",
              "      <td>ded by the two detectives. INT. JEFF'S APARTME...</td>\n",
              "      <td>thriller</td>\n",
              "    </tr>\n",
              "    <tr>\n",
              "      <th>4</th>\n",
              "      <td>nd dismounts, just as the other children reach...</td>\n",
              "      <td>drama</td>\n",
              "    </tr>\n",
              "  </tbody>\n",
              "</table>\n",
              "</div>\n",
              "      <button class=\"colab-df-convert\" onclick=\"convertToInteractive('df-bd9b0671-319e-4782-bed4-557e0f6c309b')\"\n",
              "              title=\"Convert this dataframe to an interactive table.\"\n",
              "              style=\"display:none;\">\n",
              "        \n",
              "  <svg xmlns=\"http://www.w3.org/2000/svg\" height=\"24px\"viewBox=\"0 0 24 24\"\n",
              "       width=\"24px\">\n",
              "    <path d=\"M0 0h24v24H0V0z\" fill=\"none\"/>\n",
              "    <path d=\"M18.56 5.44l.94 2.06.94-2.06 2.06-.94-2.06-.94-.94-2.06-.94 2.06-2.06.94zm-11 1L8.5 8.5l.94-2.06 2.06-.94-2.06-.94L8.5 2.5l-.94 2.06-2.06.94zm10 10l.94 2.06.94-2.06 2.06-.94-2.06-.94-.94-2.06-.94 2.06-2.06.94z\"/><path d=\"M17.41 7.96l-1.37-1.37c-.4-.4-.92-.59-1.43-.59-.52 0-1.04.2-1.43.59L10.3 9.45l-7.72 7.72c-.78.78-.78 2.05 0 2.83L4 21.41c.39.39.9.59 1.41.59.51 0 1.02-.2 1.41-.59l7.78-7.78 2.81-2.81c.8-.78.8-2.07 0-2.86zM5.41 20L4 18.59l7.72-7.72 1.47 1.35L5.41 20z\"/>\n",
              "  </svg>\n",
              "      </button>\n",
              "      \n",
              "  <style>\n",
              "    .colab-df-container {\n",
              "      display:flex;\n",
              "      flex-wrap:wrap;\n",
              "      gap: 12px;\n",
              "    }\n",
              "\n",
              "    .colab-df-convert {\n",
              "      background-color: #E8F0FE;\n",
              "      border: none;\n",
              "      border-radius: 50%;\n",
              "      cursor: pointer;\n",
              "      display: none;\n",
              "      fill: #1967D2;\n",
              "      height: 32px;\n",
              "      padding: 0 0 0 0;\n",
              "      width: 32px;\n",
              "    }\n",
              "\n",
              "    .colab-df-convert:hover {\n",
              "      background-color: #E2EBFA;\n",
              "      box-shadow: 0px 1px 2px rgba(60, 64, 67, 0.3), 0px 1px 3px 1px rgba(60, 64, 67, 0.15);\n",
              "      fill: #174EA6;\n",
              "    }\n",
              "\n",
              "    [theme=dark] .colab-df-convert {\n",
              "      background-color: #3B4455;\n",
              "      fill: #D2E3FC;\n",
              "    }\n",
              "\n",
              "    [theme=dark] .colab-df-convert:hover {\n",
              "      background-color: #434B5C;\n",
              "      box-shadow: 0px 1px 3px 1px rgba(0, 0, 0, 0.15);\n",
              "      filter: drop-shadow(0px 1px 2px rgba(0, 0, 0, 0.3));\n",
              "      fill: #FFFFFF;\n",
              "    }\n",
              "  </style>\n",
              "\n",
              "      <script>\n",
              "        const buttonEl =\n",
              "          document.querySelector('#df-bd9b0671-319e-4782-bed4-557e0f6c309b button.colab-df-convert');\n",
              "        buttonEl.style.display =\n",
              "          google.colab.kernel.accessAllowed ? 'block' : 'none';\n",
              "\n",
              "        async function convertToInteractive(key) {\n",
              "          const element = document.querySelector('#df-bd9b0671-319e-4782-bed4-557e0f6c309b');\n",
              "          const dataTable =\n",
              "            await google.colab.kernel.invokeFunction('convertToInteractive',\n",
              "                                                     [key], {});\n",
              "          if (!dataTable) return;\n",
              "\n",
              "          const docLinkHtml = 'Like what you see? Visit the ' +\n",
              "            '<a target=\"_blank\" href=https://colab.research.google.com/notebooks/data_table.ipynb>data table notebook</a>'\n",
              "            + ' to learn more about interactive tables.';\n",
              "          element.innerHTML = '';\n",
              "          dataTable['output_type'] = 'display_data';\n",
              "          await google.colab.output.renderOutput(dataTable, element);\n",
              "          const docLink = document.createElement('div');\n",
              "          docLink.innerHTML = docLinkHtml;\n",
              "          element.appendChild(docLink);\n",
              "        }\n",
              "      </script>\n",
              "    </div>\n",
              "  </div>\n",
              "  "
            ]
          },
          "metadata": {},
          "execution_count": 7
        }
      ]
    },
    {
      "cell_type": "code",
      "source": [
        "data = data[~data['genre'].isin(['sci-fi','horror','other','adventure','romance'])]\n",
        "data['genre'].value_counts()"
      ],
      "metadata": {
        "colab": {
          "base_uri": "https://localhost:8080/"
        },
        "id": "GwtjVQoLb5Ew",
        "outputId": "0e2e5dcb-36e2-40b4-eea9-615415d72f33"
      },
      "execution_count": 8,
      "outputs": [
        {
          "output_type": "execute_result",
          "data": {
            "text/plain": [
              "drama       8873\n",
              "thriller    6824\n",
              "comedy      2941\n",
              "action      2392\n",
              "Name: genre, dtype: int64"
            ]
          },
          "metadata": {},
          "execution_count": 8
        }
      ]
    },
    {
      "cell_type": "code",
      "source": [
        "genre = pd.get_dummies(data['genre'])\n",
        "data_baru = pd.concat([data, genre], axis=1)\n",
        "data_baru = data_baru.drop(columns='genre')\n",
        "data_baru"
      ],
      "metadata": {
        "colab": {
          "base_uri": "https://localhost:8080/",
          "height": 423
        },
        "id": "O1CSfbILDOjG",
        "outputId": "9930facf-fac5-44fb-96d0-9ced13cb9543"
      },
      "execution_count": 9,
      "outputs": [
        {
          "output_type": "execute_result",
          "data": {
            "text/plain": [
              "                                                    text  action  comedy  \\\n",
              "0      eady dead, maybe even wishing he was. INT. 2ND...       0       0   \n",
              "1      t, summa cum laude and all. And I'm about to l...       0       1   \n",
              "2       up Come, I have a surprise.... She takes him ...       0       0   \n",
              "3      ded by the two detectives. INT. JEFF'S APARTME...       0       0   \n",
              "4      nd dismounts, just as the other children reach...       0       0   \n",
              "...                                                  ...     ...     ...   \n",
              "22574  n in the world to decide what I'm going to do ...       0       0   \n",
              "22575  shards. BOJO LAZ! Laz pushes Deke back through...       0       0   \n",
              "22576  OTTIE You've got a thing about Ernie's, haven'...       0       0   \n",
              "22577  ....with marked skill and dexterity . LANA wry...       1       0   \n",
              "22578  rd walks off down the hallway, leaving his pos...       0       1   \n",
              "\n",
              "       drama  thriller  \n",
              "0          0         1  \n",
              "1          0         0  \n",
              "2          1         0  \n",
              "3          0         1  \n",
              "4          1         0  \n",
              "...      ...       ...  \n",
              "22574      1         0  \n",
              "22575      1         0  \n",
              "22576      0         1  \n",
              "22577      0         0  \n",
              "22578      0         0  \n",
              "\n",
              "[21030 rows x 5 columns]"
            ],
            "text/html": [
              "\n",
              "  <div id=\"df-40261840-82ae-46a7-b843-8eb71a7f0b15\">\n",
              "    <div class=\"colab-df-container\">\n",
              "      <div>\n",
              "<style scoped>\n",
              "    .dataframe tbody tr th:only-of-type {\n",
              "        vertical-align: middle;\n",
              "    }\n",
              "\n",
              "    .dataframe tbody tr th {\n",
              "        vertical-align: top;\n",
              "    }\n",
              "\n",
              "    .dataframe thead th {\n",
              "        text-align: right;\n",
              "    }\n",
              "</style>\n",
              "<table border=\"1\" class=\"dataframe\">\n",
              "  <thead>\n",
              "    <tr style=\"text-align: right;\">\n",
              "      <th></th>\n",
              "      <th>text</th>\n",
              "      <th>action</th>\n",
              "      <th>comedy</th>\n",
              "      <th>drama</th>\n",
              "      <th>thriller</th>\n",
              "    </tr>\n",
              "  </thead>\n",
              "  <tbody>\n",
              "    <tr>\n",
              "      <th>0</th>\n",
              "      <td>eady dead, maybe even wishing he was. INT. 2ND...</td>\n",
              "      <td>0</td>\n",
              "      <td>0</td>\n",
              "      <td>0</td>\n",
              "      <td>1</td>\n",
              "    </tr>\n",
              "    <tr>\n",
              "      <th>1</th>\n",
              "      <td>t, summa cum laude and all. And I'm about to l...</td>\n",
              "      <td>0</td>\n",
              "      <td>1</td>\n",
              "      <td>0</td>\n",
              "      <td>0</td>\n",
              "    </tr>\n",
              "    <tr>\n",
              "      <th>2</th>\n",
              "      <td>up Come, I have a surprise.... She takes him ...</td>\n",
              "      <td>0</td>\n",
              "      <td>0</td>\n",
              "      <td>1</td>\n",
              "      <td>0</td>\n",
              "    </tr>\n",
              "    <tr>\n",
              "      <th>3</th>\n",
              "      <td>ded by the two detectives. INT. JEFF'S APARTME...</td>\n",
              "      <td>0</td>\n",
              "      <td>0</td>\n",
              "      <td>0</td>\n",
              "      <td>1</td>\n",
              "    </tr>\n",
              "    <tr>\n",
              "      <th>4</th>\n",
              "      <td>nd dismounts, just as the other children reach...</td>\n",
              "      <td>0</td>\n",
              "      <td>0</td>\n",
              "      <td>1</td>\n",
              "      <td>0</td>\n",
              "    </tr>\n",
              "    <tr>\n",
              "      <th>...</th>\n",
              "      <td>...</td>\n",
              "      <td>...</td>\n",
              "      <td>...</td>\n",
              "      <td>...</td>\n",
              "      <td>...</td>\n",
              "    </tr>\n",
              "    <tr>\n",
              "      <th>22574</th>\n",
              "      <td>n in the world to decide what I'm going to do ...</td>\n",
              "      <td>0</td>\n",
              "      <td>0</td>\n",
              "      <td>1</td>\n",
              "      <td>0</td>\n",
              "    </tr>\n",
              "    <tr>\n",
              "      <th>22575</th>\n",
              "      <td>shards. BOJO LAZ! Laz pushes Deke back through...</td>\n",
              "      <td>0</td>\n",
              "      <td>0</td>\n",
              "      <td>1</td>\n",
              "      <td>0</td>\n",
              "    </tr>\n",
              "    <tr>\n",
              "      <th>22576</th>\n",
              "      <td>OTTIE You've got a thing about Ernie's, haven'...</td>\n",
              "      <td>0</td>\n",
              "      <td>0</td>\n",
              "      <td>0</td>\n",
              "      <td>1</td>\n",
              "    </tr>\n",
              "    <tr>\n",
              "      <th>22577</th>\n",
              "      <td>....with marked skill and dexterity . LANA wry...</td>\n",
              "      <td>1</td>\n",
              "      <td>0</td>\n",
              "      <td>0</td>\n",
              "      <td>0</td>\n",
              "    </tr>\n",
              "    <tr>\n",
              "      <th>22578</th>\n",
              "      <td>rd walks off down the hallway, leaving his pos...</td>\n",
              "      <td>0</td>\n",
              "      <td>1</td>\n",
              "      <td>0</td>\n",
              "      <td>0</td>\n",
              "    </tr>\n",
              "  </tbody>\n",
              "</table>\n",
              "<p>21030 rows × 5 columns</p>\n",
              "</div>\n",
              "      <button class=\"colab-df-convert\" onclick=\"convertToInteractive('df-40261840-82ae-46a7-b843-8eb71a7f0b15')\"\n",
              "              title=\"Convert this dataframe to an interactive table.\"\n",
              "              style=\"display:none;\">\n",
              "        \n",
              "  <svg xmlns=\"http://www.w3.org/2000/svg\" height=\"24px\"viewBox=\"0 0 24 24\"\n",
              "       width=\"24px\">\n",
              "    <path d=\"M0 0h24v24H0V0z\" fill=\"none\"/>\n",
              "    <path d=\"M18.56 5.44l.94 2.06.94-2.06 2.06-.94-2.06-.94-.94-2.06-.94 2.06-2.06.94zm-11 1L8.5 8.5l.94-2.06 2.06-.94-2.06-.94L8.5 2.5l-.94 2.06-2.06.94zm10 10l.94 2.06.94-2.06 2.06-.94-2.06-.94-.94-2.06-.94 2.06-2.06.94z\"/><path d=\"M17.41 7.96l-1.37-1.37c-.4-.4-.92-.59-1.43-.59-.52 0-1.04.2-1.43.59L10.3 9.45l-7.72 7.72c-.78.78-.78 2.05 0 2.83L4 21.41c.39.39.9.59 1.41.59.51 0 1.02-.2 1.41-.59l7.78-7.78 2.81-2.81c.8-.78.8-2.07 0-2.86zM5.41 20L4 18.59l7.72-7.72 1.47 1.35L5.41 20z\"/>\n",
              "  </svg>\n",
              "      </button>\n",
              "      \n",
              "  <style>\n",
              "    .colab-df-container {\n",
              "      display:flex;\n",
              "      flex-wrap:wrap;\n",
              "      gap: 12px;\n",
              "    }\n",
              "\n",
              "    .colab-df-convert {\n",
              "      background-color: #E8F0FE;\n",
              "      border: none;\n",
              "      border-radius: 50%;\n",
              "      cursor: pointer;\n",
              "      display: none;\n",
              "      fill: #1967D2;\n",
              "      height: 32px;\n",
              "      padding: 0 0 0 0;\n",
              "      width: 32px;\n",
              "    }\n",
              "\n",
              "    .colab-df-convert:hover {\n",
              "      background-color: #E2EBFA;\n",
              "      box-shadow: 0px 1px 2px rgba(60, 64, 67, 0.3), 0px 1px 3px 1px rgba(60, 64, 67, 0.15);\n",
              "      fill: #174EA6;\n",
              "    }\n",
              "\n",
              "    [theme=dark] .colab-df-convert {\n",
              "      background-color: #3B4455;\n",
              "      fill: #D2E3FC;\n",
              "    }\n",
              "\n",
              "    [theme=dark] .colab-df-convert:hover {\n",
              "      background-color: #434B5C;\n",
              "      box-shadow: 0px 1px 3px 1px rgba(0, 0, 0, 0.15);\n",
              "      filter: drop-shadow(0px 1px 2px rgba(0, 0, 0, 0.3));\n",
              "      fill: #FFFFFF;\n",
              "    }\n",
              "  </style>\n",
              "\n",
              "      <script>\n",
              "        const buttonEl =\n",
              "          document.querySelector('#df-40261840-82ae-46a7-b843-8eb71a7f0b15 button.colab-df-convert');\n",
              "        buttonEl.style.display =\n",
              "          google.colab.kernel.accessAllowed ? 'block' : 'none';\n",
              "\n",
              "        async function convertToInteractive(key) {\n",
              "          const element = document.querySelector('#df-40261840-82ae-46a7-b843-8eb71a7f0b15');\n",
              "          const dataTable =\n",
              "            await google.colab.kernel.invokeFunction('convertToInteractive',\n",
              "                                                     [key], {});\n",
              "          if (!dataTable) return;\n",
              "\n",
              "          const docLinkHtml = 'Like what you see? Visit the ' +\n",
              "            '<a target=\"_blank\" href=https://colab.research.google.com/notebooks/data_table.ipynb>data table notebook</a>'\n",
              "            + ' to learn more about interactive tables.';\n",
              "          element.innerHTML = '';\n",
              "          dataTable['output_type'] = 'display_data';\n",
              "          await google.colab.output.renderOutput(dataTable, element);\n",
              "          const docLink = document.createElement('div');\n",
              "          docLink.innerHTML = docLinkHtml;\n",
              "          element.appendChild(docLink);\n",
              "        }\n",
              "      </script>\n",
              "    </div>\n",
              "  </div>\n",
              "  "
            ]
          },
          "metadata": {},
          "execution_count": 9
        }
      ]
    },
    {
      "cell_type": "code",
      "source": [
        "data_baru.columns"
      ],
      "metadata": {
        "colab": {
          "base_uri": "https://localhost:8080/"
        },
        "id": "RujveTLrDrhb",
        "outputId": "53614769-008b-45fe-93f0-00efd57473c5"
      },
      "execution_count": 10,
      "outputs": [
        {
          "output_type": "execute_result",
          "data": {
            "text/plain": [
              "Index(['text', 'action', 'comedy', 'drama', 'thriller'], dtype='object')"
            ]
          },
          "metadata": {},
          "execution_count": 10
        }
      ]
    },
    {
      "cell_type": "code",
      "source": [
        "# tentang_film = data_baru['about'].str.lower()\n",
        "tentang_film = data_baru['text'].astype(str)\n",
        "genre_film = data_baru[[\n",
        "       'action', 'comedy', 'drama', 'thriller']].values"
      ],
      "metadata": {
        "id": "AlfIeViVDUdL"
      },
      "execution_count": 11,
      "outputs": []
    },
    {
      "cell_type": "code",
      "source": [
        "tentang_latih, tentang_test, genre_latih, genre_test = train_test_split(tentang_film, genre_film, test_size=0.2)"
      ],
      "metadata": {
        "id": "GUDsyTceFvvE"
      },
      "execution_count": 12,
      "outputs": []
    },
    {
      "cell_type": "code",
      "source": [
        "tokenizer = Tokenizer(num_words=5000, oov_token='*')\n",
        "tokenizer.fit_on_texts(tentang_latih) \n",
        "tokenizer.fit_on_texts(tentang_test)\n",
        " \n",
        "sekuens_latih = tokenizer.texts_to_sequences(tentang_latih)\n",
        "sekuens_test = tokenizer.texts_to_sequences(tentang_test)\n",
        " \n",
        "padded_latih = pad_sequences(sekuens_latih) \n",
        "padded_test = pad_sequences(sekuens_test)"
      ],
      "metadata": {
        "id": "ogKa0njZGE2s"
      },
      "execution_count": 13,
      "outputs": []
    },
    {
      "cell_type": "code",
      "source": [
        "model = Sequential([\n",
        "    Embedding(input_dim=5000, output_dim=16),\n",
        "    LSTM(64),\n",
        "    Dense(128, activation='relu'),\n",
        "    Dropout(0.5),\n",
        "    Dense(4, activation='softmax')\n",
        "])\n",
        "Adam(learning_rate=0.00146, name='Adam')\n",
        "model.compile(optimizer = 'Adam',loss = 'categorical_crossentropy',metrics = ['accuracy'])"
      ],
      "metadata": {
        "id": "SwTd8AYHfg2I"
      },
      "execution_count": 20,
      "outputs": []
    },
    {
      "cell_type": "code",
      "source": [
        "model.summary()"
      ],
      "metadata": {
        "colab": {
          "base_uri": "https://localhost:8080/"
        },
        "id": "OcRVCUWsu5Un",
        "outputId": "11cf0bf7-e7fc-4d0a-d642-adddfd511fb1"
      },
      "execution_count": 21,
      "outputs": [
        {
          "output_type": "stream",
          "name": "stdout",
          "text": [
            "Model: \"sequential_2\"\n",
            "_________________________________________________________________\n",
            " Layer (type)                Output Shape              Param #   \n",
            "=================================================================\n",
            " embedding_2 (Embedding)     (None, None, 16)          80000     \n",
            "                                                                 \n",
            " lstm_2 (LSTM)               (None, 64)                20736     \n",
            "                                                                 \n",
            " dense_10 (Dense)            (None, 128)               8320      \n",
            "                                                                 \n",
            " dropout_8 (Dropout)         (None, 128)               0         \n",
            "                                                                 \n",
            " dense_11 (Dense)            (None, 4)                 516       \n",
            "                                                                 \n",
            "=================================================================\n",
            "Total params: 109,572\n",
            "Trainable params: 109,572\n",
            "Non-trainable params: 0\n",
            "_________________________________________________________________\n"
          ]
        }
      ]
    },
    {
      "cell_type": "code",
      "source": [
        "model_history = model.fit(\n",
        "    padded_latih, \n",
        "    genre_latih, \n",
        "    epochs=50, \n",
        "    validation_data=(padded_test, genre_test), \n",
        "    verbose=2,\n",
        "    batch_size=128,\n",
        "    callbacks=[cb]\n",
        "  )"
      ],
      "metadata": {
        "id": "7zakdrlcf-aC",
        "colab": {
          "base_uri": "https://localhost:8080/"
        },
        "outputId": "11bb6b4d-301d-4064-ab5d-da0a48ffdd37"
      },
      "execution_count": 22,
      "outputs": [
        {
          "output_type": "stream",
          "name": "stdout",
          "text": [
            "Epoch 1/50\n",
            "132/132 - 57s - loss: 1.2472 - accuracy: 0.4152 - val_loss: 1.0596 - val_accuracy: 0.4746 - 57s/epoch - 432ms/step\n",
            "Epoch 2/50\n",
            "132/132 - 53s - loss: 0.9142 - accuracy: 0.5394 - val_loss: 0.8236 - val_accuracy: 0.6020 - 53s/epoch - 402ms/step\n",
            "Epoch 3/50\n",
            "132/132 - 52s - loss: 0.7359 - accuracy: 0.6504 - val_loss: 0.7920 - val_accuracy: 0.6605 - 52s/epoch - 395ms/step\n",
            "Epoch 4/50\n",
            "132/132 - 58s - loss: 0.6715 - accuracy: 0.7023 - val_loss: 0.8139 - val_accuracy: 0.6512 - 58s/epoch - 437ms/step\n",
            "Epoch 5/50\n",
            "132/132 - 54s - loss: 0.6001 - accuracy: 0.7291 - val_loss: 0.9027 - val_accuracy: 0.6362 - 54s/epoch - 411ms/step\n",
            "Epoch 6/50\n",
            "132/132 - 54s - loss: 0.5399 - accuracy: 0.7565 - val_loss: 0.7219 - val_accuracy: 0.7019 - 54s/epoch - 410ms/step\n",
            "Epoch 7/50\n",
            "132/132 - 58s - loss: 0.4727 - accuracy: 0.7801 - val_loss: 0.7614 - val_accuracy: 0.7092 - 58s/epoch - 439ms/step\n",
            "Epoch 8/50\n",
            "132/132 - 54s - loss: 0.4243 - accuracy: 0.8025 - val_loss: 0.6682 - val_accuracy: 0.7385 - 54s/epoch - 410ms/step\n",
            "Epoch 9/50\n",
            "132/132 - 54s - loss: 0.3368 - accuracy: 0.8378 - val_loss: 0.7187 - val_accuracy: 0.7361 - 54s/epoch - 410ms/step\n",
            "Epoch 10/50\n",
            "132/132 - 54s - loss: 0.3037 - accuracy: 0.8619 - val_loss: 0.6913 - val_accuracy: 0.7865 - 54s/epoch - 406ms/step\n",
            "Epoch 11/50\n",
            "132/132 - 58s - loss: 0.2451 - accuracy: 0.9036 - val_loss: 0.6636 - val_accuracy: 0.8036 - 58s/epoch - 438ms/step\n",
            "Epoch 12/50\n",
            "132/132 - 54s - loss: 0.1891 - accuracy: 0.9341 - val_loss: 0.8293 - val_accuracy: 0.7910 - 54s/epoch - 410ms/step\n",
            "Epoch 13/50\n",
            "132/132 - 54s - loss: 0.1611 - accuracy: 0.9465 - val_loss: 0.6715 - val_accuracy: 0.8172 - 54s/epoch - 410ms/step\n",
            "Epoch 14/50\n",
            "132/132 - 58s - loss: 0.1637 - accuracy: 0.9455 - val_loss: 0.6767 - val_accuracy: 0.8176 - 58s/epoch - 439ms/step\n",
            "Epoch 15/50\n",
            "132/132 - 54s - loss: 0.1285 - accuracy: 0.9585 - val_loss: 0.7345 - val_accuracy: 0.8143 - 54s/epoch - 408ms/step\n",
            "Epoch 16/50\n",
            "132/132 - 53s - loss: 0.1154 - accuracy: 0.9643 - val_loss: 0.8099 - val_accuracy: 0.8288 - 53s/epoch - 402ms/step\n",
            "Epoch 17/50\n",
            "132/132 - 54s - loss: 0.1131 - accuracy: 0.9641 - val_loss: 0.8361 - val_accuracy: 0.8312 - 54s/epoch - 411ms/step\n",
            "Epoch 18/50\n",
            "132/132 - 58s - loss: 0.0984 - accuracy: 0.9693 - val_loss: 0.8067 - val_accuracy: 0.8257 - 58s/epoch - 441ms/step\n",
            "Epoch 19/50\n",
            "132/132 - 53s - loss: 0.0953 - accuracy: 0.9712 - val_loss: 0.8843 - val_accuracy: 0.8214 - 53s/epoch - 404ms/step\n",
            "Epoch 20/50\n",
            "132/132 - 53s - loss: 0.1060 - accuracy: 0.9671 - val_loss: 0.8973 - val_accuracy: 0.8264 - 53s/epoch - 403ms/step\n",
            "Epoch 21/50\n",
            "132/132 - 54s - loss: 0.0846 - accuracy: 0.9741 - val_loss: 0.8808 - val_accuracy: 0.8231 - 54s/epoch - 411ms/step\n",
            "Epoch 22/50\n",
            "132/132 - 59s - loss: 0.0768 - accuracy: 0.9775 - val_loss: 0.8607 - val_accuracy: 0.8264 - 59s/epoch - 444ms/step\n",
            "Epoch 23/50\n",
            "132/132 - 55s - loss: 0.0595 - accuracy: 0.9826 - val_loss: 0.9244 - val_accuracy: 0.8293 - 55s/epoch - 414ms/step\n",
            "Epoch 24/50\n",
            "132/132 - 54s - loss: 0.0734 - accuracy: 0.9771 - val_loss: 0.9840 - val_accuracy: 0.8319 - 54s/epoch - 413ms/step\n",
            "Epoch 25/50\n",
            "132/132 - 58s - loss: 0.0482 - accuracy: 0.9857 - val_loss: 1.0291 - val_accuracy: 0.8276 - 58s/epoch - 443ms/step\n",
            "Epoch 26/50\n",
            "132/132 - 55s - loss: 0.0883 - accuracy: 0.9729 - val_loss: 0.9034 - val_accuracy: 0.8310 - 55s/epoch - 413ms/step\n",
            "Epoch 27/50\n",
            "132/132 - 54s - loss: 0.0486 - accuracy: 0.9848 - val_loss: 0.9146 - val_accuracy: 0.8300 - 54s/epoch - 412ms/step\n",
            "Epoch 28/50\n",
            "132/132 - 58s - loss: 0.0385 - accuracy: 0.9890 - val_loss: 1.0374 - val_accuracy: 0.8272 - 58s/epoch - 443ms/step\n",
            "Epoch 29/50\n",
            "132/132 - 55s - loss: 0.0363 - accuracy: 0.9898 - val_loss: 0.9961 - val_accuracy: 0.8357 - 55s/epoch - 415ms/step\n",
            "Epoch 30/50\n",
            "132/132 - 55s - loss: 0.0350 - accuracy: 0.9910 - val_loss: 0.9288 - val_accuracy: 0.8015 - 55s/epoch - 413ms/step\n",
            "Epoch 31/50\n",
            "132/132 - 59s - loss: 0.0827 - accuracy: 0.9750 - val_loss: 0.9138 - val_accuracy: 0.8362 - 59s/epoch - 443ms/step\n",
            "Epoch 32/50\n",
            "132/132 - 53s - loss: 0.0474 - accuracy: 0.9863 - val_loss: 1.0219 - val_accuracy: 0.8307 - 53s/epoch - 405ms/step\n",
            "Epoch 33/50\n",
            "132/132 - 54s - loss: 0.0335 - accuracy: 0.9909 - val_loss: 1.0097 - val_accuracy: 0.8371 - 54s/epoch - 409ms/step\n",
            "Epoch 34/50\n",
            "132/132 - 54s - loss: 0.0191 - accuracy: 0.9957 - val_loss: 1.1739 - val_accuracy: 0.8345 - 54s/epoch - 410ms/step\n",
            "Epoch 35/50\n",
            "132/132 - 58s - loss: 0.0454 - accuracy: 0.9870 - val_loss: 1.0402 - val_accuracy: 0.8381 - 58s/epoch - 440ms/step\n",
            "Epoch 36/50\n",
            "132/132 - 55s - loss: 0.0214 - accuracy: 0.9938 - val_loss: 1.0717 - val_accuracy: 0.8407 - 55s/epoch - 413ms/step\n",
            "Epoch 37/50\n",
            "132/132 - 59s - loss: 0.0318 - accuracy: 0.9900 - val_loss: 1.2284 - val_accuracy: 0.8217 - 59s/epoch - 450ms/step\n",
            "Epoch 38/50\n",
            "132/132 - 53s - loss: 0.0281 - accuracy: 0.9916 - val_loss: 1.1200 - val_accuracy: 0.8355 - 53s/epoch - 403ms/step\n",
            "Epoch 39/50\n",
            "132/132 - 54s - loss: 0.0396 - accuracy: 0.9878 - val_loss: 1.0839 - val_accuracy: 0.8274 - 54s/epoch - 412ms/step\n",
            "Epoch 40/50\n",
            "132/132 - 60s - loss: 0.0393 - accuracy: 0.9879 - val_loss: 1.1028 - val_accuracy: 0.8355 - 60s/epoch - 451ms/step\n",
            "Epoch 41/50\n",
            "132/132 - 55s - loss: 0.0240 - accuracy: 0.9930 - val_loss: 1.1688 - val_accuracy: 0.8260 - 55s/epoch - 415ms/step\n",
            "Epoch 42/50\n",
            "132/132 - 55s - loss: 0.0133 - accuracy: 0.9964 - val_loss: 1.2213 - val_accuracy: 0.8369 - 55s/epoch - 414ms/step\n",
            "Epoch 43/50\n",
            "132/132 - 59s - loss: 0.0495 - accuracy: 0.9852 - val_loss: 1.1532 - val_accuracy: 0.8340 - 59s/epoch - 446ms/step\n",
            "Epoch 44/50\n",
            "132/132 - 55s - loss: 0.0348 - accuracy: 0.9908 - val_loss: 1.1406 - val_accuracy: 0.8264 - 55s/epoch - 415ms/step\n",
            "Epoch 45/50\n",
            "132/132 - 55s - loss: 0.0185 - accuracy: 0.9949 - val_loss: 1.2560 - val_accuracy: 0.8350 - 55s/epoch - 416ms/step\n",
            "Epoch 46/50\n",
            "132/132 - 55s - loss: 0.0170 - accuracy: 0.9961 - val_loss: 1.1580 - val_accuracy: 0.8274 - 55s/epoch - 413ms/step\n",
            "Epoch 47/50\n",
            "132/132 - 54s - loss: 0.0242 - accuracy: 0.9932 - val_loss: 1.1238 - val_accuracy: 0.8302 - 54s/epoch - 412ms/step\n",
            "Epoch 48/50\n",
            "132/132 - 54s - loss: 0.0516 - accuracy: 0.9844 - val_loss: 1.0697 - val_accuracy: 0.8412 - 54s/epoch - 411ms/step\n",
            "Epoch 49/50\n",
            "132/132 - 56s - loss: 0.0149 - accuracy: 0.9957 - val_loss: 1.1663 - val_accuracy: 0.8355 - 56s/epoch - 422ms/step\n",
            "Epoch 50/50\n",
            "132/132 - 54s - loss: 0.0098 - accuracy: 0.9977 - val_loss: 1.1858 - val_accuracy: 0.8319 - 54s/epoch - 410ms/step\n"
          ]
        }
      ]
    },
    {
      "cell_type": "code",
      "source": [
        "plt.plot(model_history.history['loss'])\n",
        "plt.plot(model_history.history['val_loss'])\n",
        "plt.title('Model loss')\n",
        "plt.ylabel('Loss')\n",
        "plt.xlabel('Epoch')\n",
        "plt.legend(['Train'], loc='upper right')\n",
        "plt.show()"
      ],
      "metadata": {
        "colab": {
          "base_uri": "https://localhost:8080/",
          "height": 295
        },
        "id": "ixqGNvqjN3vJ",
        "outputId": "5152d816-c310-4f05-aa31-2945202558d1"
      },
      "execution_count": 23,
      "outputs": [
        {
          "output_type": "display_data",
          "data": {
            "text/plain": [
              "<Figure size 432x288 with 1 Axes>"
            ],
            "image/png": "[encoded data removed]"
          },
          "metadata": {
            "needs_background": "light"
          }
        }
      ]
    },
    {
      "cell_type": "code",
      "source": [
        "plt.plot(model_history.history['accuracy'])\n",
        "plt.plot(model_history.history['val_accuracy'])\n",
        "plt.title('Model accuracy')\n",
        "plt.ylabel('Accuracy')\n",
        "plt.xlabel('Epoch')\n",
        "plt.legend(['Train'], loc='lower right')\n",
        "plt.show()"
      ],
      "metadata": {
        "colab": {
          "base_uri": "https://localhost:8080/",
          "height": 295
        },
        "id": "wvMvLkfXN5FH",
        "outputId": "e618da4f-5da1-41af-c145-558bd5bd8d14"
      },
      "execution_count": 24,
      "outputs": [
        {
          "output_type": "display_data",
          "data": {
            "text/plain": [
              "<Figure size 432x288 with 1 Axes>"
            ],
            "image/png": "[encoded data removed]"
          },
          "metadata": {
            "needs_background": "light"
          }
        }
      ]
    }
  ]
}